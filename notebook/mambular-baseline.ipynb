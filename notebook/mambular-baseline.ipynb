{
 "cells": [
  {
   "cell_type": "code",
   "execution_count": 1,
   "id": "f0c31ab0-5542-49db-b5ab-3db5faa2a32a",
   "metadata": {},
   "outputs": [],
   "source": [
    "import os\n",
    "import json\n",
    "import numpy as np\n",
    "import pandas as pd\n",
    "import matplotlib.pyplot as plt\n",
    "import seaborn as sns\n",
    "import torch\n",
    "import textwrap  #\n",
    "import joblib\n",
    "import math \n",
    "from sklearn.metrics import (\n",
    "    classification_report, confusion_matrix, roc_curve, auc,\n",
    "    precision_recall_curve, average_precision_score, top_k_accuracy_score\n",
    ")\n",
    "from sklearn.preprocessing import label_binarize\n",
    "from sklearn.decomposition import PCA\n",
    "from sklearn.calibration import calibration_curve\n",
    "\n",
    "from sklearn.model_selection import train_test_split\n",
    "from mambular.models import MambularClassifier\n",
    "from sklearn.preprocessing import LabelEncoder\n",
    "\n",
    "from sklearn.metrics import (\n",
    "    classification_report, confusion_matrix, roc_curve, auc,\n",
    "    precision_recall_curve, average_precision_score, top_k_accuracy_score\n",
    ")\n",
    "from sklearn.preprocessing import label_binarize\n",
    "from sklearn.decomposition import PCA\n",
    "from sklearn.calibration import calibration_curve\n",
    "np.random.seed(0)"
   ]
  },
  {
   "cell_type": "code",
   "execution_count": null,
   "id": "ea57c466-5bbe-48b7-8bf0-c4683aa9a90b",
   "metadata": {},
   "outputs": [],
   "source": [
    "data = pd.read_csv('train_pre_non_txbf.csv')\n",
    "# Number of samples\n",
    "n_samples = 20369"
   ]
  },
  {
   "cell_type": "code",
   "execution_count": 8,
   "id": "538d70b2-cf26-4c78-870b-31fb182c32d5",
   "metadata": {},
   "outputs": [],
   "source": [
    "selected_cols = [\n",
    "    \"raw_h_mag_mean\",\n",
    "    \"raw_h_mag_std\",\n",
    "    \"raw_h_sv2_mean\",\n",
    "\n",
    "    \"raw_csi_matrix_r0_c0_mag_mean\",\n",
    "    \"raw_csi_matrix_r0_c1_mag_mean\",\n",
    "    \"raw_csi_matrix_r0_c2_mag_mean\",\n",
    "    \"raw_csi_matrix_r0_c3_mag_mean\",\n",
    "\n",
    "    \"raw_csi_matrix_r1_c0_mag_mean\",\n",
    "    \"raw_csi_matrix_r1_c1_mag_mean\",\n",
    "    \"raw_csi_matrix_r1_c2_mag_mean\",\n",
    "    \"raw_csi_matrix_r1_c3_mag_mean\",\n",
    "\n",
    "    \"raw_csi_matrix_r1_c0_spec_energy\",\n",
    "    \"raw_csi_matrix_r1_c2_spec_energy\",\n",
    "    \"raw_csi_matrix_r1_c3_spec_energy\",\n",
    "    \"raw_csi_matrix_r0_c1_spec_energy\",\n",
    "    \"raw_csi_matrix_r0_c2_spec_energy\",\n",
    "    \"raw_csi_matrix_r0_c3_spec_energy\",\n",
    "    \"raw_csi_matrix_r0_c0_spec_energy\",\n",
    "\n",
    "    \"raw_noise_floor\",\n",
    "    \"cat_terminal_id__0\",\n",
    "    \"cat_terminal_id__1\",\n",
    "    \"cat_terminal_id__2\",\n",
    "    \"mcs\"\n",
    "]\n",
    "\n",
    "data = data[selected_cols]\n"
   ]
  },
  {
   "cell_type": "code",
   "execution_count": 11,
   "id": "8e875c03-48e0-4e6a-97cb-3c53a9cbed6c",
   "metadata": {},
   "outputs": [],
   "source": [
    "X = data.drop(columns=[\"mcs\"])\n",
    "y = data['mcs'].values\n",
    "\n",
    "X_train, X_test, y_train, y_test = train_test_split(\n",
    "    X, y, test_size=0.2, random_state=42\n",
    ")"
   ]
  },
  {
   "cell_type": "code",
   "execution_count": 13,
   "id": "391293fb-48da-4185-8f94-f1ed0a843c28",
   "metadata": {},
   "outputs": [
    {
     "name": "stdout",
     "output_type": "stream",
     "text": [
      "类映射： {103.2: 0, 137.6: 1, 206.5: 2, 275.3: 3, 309.7: 4, 344.1: 5, 412.9: 6, 458.8: 7, 516.2: 8, 573.5: 9, 619.4: 10}\n",
      "训练集标签范围: 0 → 10\n",
      "类别数: 11\n"
     ]
    }
   ],
   "source": [
    "le = LabelEncoder()\n",
    "y_train_enc = le.fit_transform(y_train)\n",
    "y_test_enc  = le.transform(y_test)\n",
    "\n",
    "print(\"类映射：\", dict(zip(le.classes_, range(len(le.classes_)))))\n",
    "print(\"训练集标签范围:\", y_train_enc.min(), \"→\", y_train_enc.max())\n",
    "print(\"类别数:\", len(le.classes_))"
   ]
  },
  {
   "cell_type": "code",
   "execution_count": 14,
   "id": "d0c0c5c3-7941-4437-a791-52d9f4fc2494",
   "metadata": {},
   "outputs": [],
   "source": [
    "import re\n",
    "import pandas as pd\n",
    "\n",
    "def sanitize_columns(df: pd.DataFrame) -> pd.DataFrame:\n",
    "    df = df.copy()\n",
    "\n",
    "    new_cols = [str(c).replace(\"__\", \"_\") for c in df.columns]\n",
    "\n",
    "    new_cols = [re.sub(r\"[^0-9a-zA-Z_]\", \"_\", c) for c in new_cols]\n",
    "\n",
    "    seen = {}\n",
    "    final_cols = []\n",
    "    for c in new_cols:\n",
    "        if c not in seen:\n",
    "            seen[c] = 0\n",
    "            final_cols.append(c)\n",
    "        else:\n",
    "            seen[c] += 1\n",
    "            final_cols.append(f\"{c}_{seen[c]}\")\n",
    "    df.columns = final_cols\n",
    "    return df\n",
    "\n",
    "X_train = sanitize_columns(X_train)\n",
    "X_test  = sanitize_columns(X_test)\n",
    "\n"
   ]
  },
  {
   "cell_type": "code",
   "execution_count": 16,
   "id": "dafc8ec9-dd05-4b5e-bd3b-9b75a2e886a6",
   "metadata": {},
   "outputs": [
    {
     "name": "stderr",
     "output_type": "stream",
     "text": [
      "Trainer already configured with model summary callbacks: [<class 'lightning.pytorch.callbacks.model_summary.ModelSummary'>]. Skipping setting a default `ModelSummary` callback.\n",
      "GPU available: True (cuda), used: True\n",
      "TPU available: False, using: 0 TPU cores\n",
      "HPU available: False, using: 0 HPUs\n"
     ]
    },
    {
     "name": "stdout",
     "output_type": "stream",
     "text": [
      "Numerical Feature: raw_h_mag_mean, Info: {'preprocessing': 'imputer -> minmax -> standardization', 'dimension': 1, 'categories': None}\n",
      "--------------------------------------------------\n",
      "Numerical Feature: raw_h_mag_std, Info: {'preprocessing': 'imputer -> minmax -> standardization', 'dimension': 1, 'categories': None}\n",
      "--------------------------------------------------\n",
      "Numerical Feature: raw_h_sv2_mean, Info: {'preprocessing': 'imputer -> minmax -> standardization', 'dimension': 1, 'categories': None}\n",
      "--------------------------------------------------\n",
      "Numerical Feature: raw_csi_matrix_r0_c0_mag_mean, Info: {'preprocessing': 'imputer -> minmax -> standardization', 'dimension': 1, 'categories': None}\n",
      "--------------------------------------------------\n",
      "Numerical Feature: raw_csi_matrix_r0_c1_mag_mean, Info: {'preprocessing': 'imputer -> minmax -> standardization', 'dimension': 1, 'categories': None}\n",
      "--------------------------------------------------\n",
      "Numerical Feature: raw_csi_matrix_r0_c2_mag_mean, Info: {'preprocessing': 'imputer -> minmax -> standardization', 'dimension': 1, 'categories': None}\n",
      "--------------------------------------------------\n",
      "Numerical Feature: raw_csi_matrix_r0_c3_mag_mean, Info: {'preprocessing': 'imputer -> minmax -> standardization', 'dimension': 1, 'categories': None}\n",
      "--------------------------------------------------\n",
      "Numerical Feature: raw_csi_matrix_r1_c0_mag_mean, Info: {'preprocessing': 'imputer -> minmax -> standardization', 'dimension': 1, 'categories': None}\n",
      "--------------------------------------------------\n",
      "Numerical Feature: raw_csi_matrix_r1_c1_mag_mean, Info: {'preprocessing': 'imputer -> minmax -> standardization', 'dimension': 1, 'categories': None}\n",
      "--------------------------------------------------\n",
      "Numerical Feature: raw_csi_matrix_r1_c2_mag_mean, Info: {'preprocessing': 'imputer -> minmax -> standardization', 'dimension': 1, 'categories': None}\n",
      "--------------------------------------------------\n",
      "Numerical Feature: raw_csi_matrix_r1_c3_mag_mean, Info: {'preprocessing': 'imputer -> minmax -> standardization', 'dimension': 1, 'categories': None}\n",
      "--------------------------------------------------\n",
      "Numerical Feature: raw_csi_matrix_r1_c0_spec_energy, Info: {'preprocessing': 'imputer -> minmax -> standardization', 'dimension': 1, 'categories': None}\n",
      "--------------------------------------------------\n",
      "Numerical Feature: raw_csi_matrix_r1_c2_spec_energy, Info: {'preprocessing': 'imputer -> minmax -> standardization', 'dimension': 1, 'categories': None}\n",
      "--------------------------------------------------\n",
      "Numerical Feature: raw_csi_matrix_r1_c3_spec_energy, Info: {'preprocessing': 'imputer -> minmax -> standardization', 'dimension': 1, 'categories': None}\n",
      "--------------------------------------------------\n",
      "Numerical Feature: raw_csi_matrix_r0_c1_spec_energy, Info: {'preprocessing': 'imputer -> minmax -> standardization', 'dimension': 1, 'categories': None}\n",
      "--------------------------------------------------\n",
      "Numerical Feature: raw_csi_matrix_r0_c2_spec_energy, Info: {'preprocessing': 'imputer -> minmax -> standardization', 'dimension': 1, 'categories': None}\n",
      "--------------------------------------------------\n",
      "Numerical Feature: raw_csi_matrix_r0_c3_spec_energy, Info: {'preprocessing': 'imputer -> minmax -> standardization', 'dimension': 1, 'categories': None}\n",
      "--------------------------------------------------\n",
      "Numerical Feature: raw_csi_matrix_r0_c0_spec_energy, Info: {'preprocessing': 'imputer -> minmax -> standardization', 'dimension': 1, 'categories': None}\n",
      "--------------------------------------------------\n",
      "Numerical Feature: raw_noise_floor, Info: {'preprocessing': 'imputer -> minmax -> standardization', 'dimension': 1, 'categories': None}\n",
      "--------------------------------------------------\n",
      "Numerical Feature: cat_terminal_id_0, Info: {'preprocessing': 'imputer -> minmax -> standardization', 'dimension': 1, 'categories': None}\n",
      "--------------------------------------------------\n",
      "Numerical Feature: cat_terminal_id_1, Info: {'preprocessing': 'imputer -> minmax -> standardization', 'dimension': 1, 'categories': None}\n",
      "--------------------------------------------------\n",
      "Numerical Feature: cat_terminal_id_2, Info: {'preprocessing': 'imputer -> minmax -> standardization', 'dimension': 1, 'categories': None}\n",
      "--------------------------------------------------\n"
     ]
    },
    {
     "name": "stderr",
     "output_type": "stream",
     "text": [
      "You are using a CUDA device ('NVIDIA GeForce RTX 4090') that has Tensor Cores. To properly utilize them, you should set `torch.set_float32_matmul_precision('medium' | 'high')` which will trade-off precision for performance. For more details, read https://pytorch.org/docs/stable/generated/torch.set_float32_matmul_precision.html#torch.set_float32_matmul_precision\n",
      "LOCAL_RANK: 0 - CUDA_VISIBLE_DEVICES: [0]\n",
      "\n",
      "  | Name                      | Type             | Params | Mode \n",
      "-----------------------------------------------------------------------\n",
      "0 | loss_fct                  | CrossEntropyLoss | 0      | train\n",
      "1 | estimator                 | Mambular         | 304 K  | train\n",
      "2 | estimator.embedding_layer | EmbeddingLayer   | 1.4 K  | train\n",
      "3 | estimator.mamba           | Mamba            | 302 K  | train\n",
      "4 | estimator.tabular_head    | MLPhead          | 715    | train\n",
      "-----------------------------------------------------------------------\n",
      "304 K     Trainable params\n",
      "0         Non-trainable params\n",
      "304 K     Total params\n",
      "1.218     Total estimated model params size (MB)\n",
      "93        Modules in train mode\n",
      "0         Modules in eval mode\n"
     ]
    },
    {
     "data": {
      "application/vnd.jupyter.widget-view+json": {
       "model_id": "",
       "version_major": 2,
       "version_minor": 0
      },
      "text/plain": [
       "Sanity Checking: |          | 0/? [00:00<?, ?it/s]"
      ]
     },
     "metadata": {},
     "output_type": "display_data"
    },
    {
     "name": "stderr",
     "output_type": "stream",
     "text": [
      "/root/miniconda3/lib/python3.10/site-packages/lightning/pytorch/trainer/connectors/data_connector.py:433: The 'val_dataloader' does not have many workers which may be a bottleneck. Consider increasing the value of the `num_workers` argument` to `num_workers=127` in the `DataLoader` to improve performance.\n",
      "/root/miniconda3/lib/python3.10/site-packages/lightning/pytorch/trainer/connectors/data_connector.py:433: The 'train_dataloader' does not have many workers which may be a bottleneck. Consider increasing the value of the `num_workers` argument` to `num_workers=127` in the `DataLoader` to improve performance.\n"
     ]
    },
    {
     "data": {
      "application/vnd.jupyter.widget-view+json": {
       "model_id": "80a3c919f7e948a2aaeb02feac65bd13",
       "version_major": 2,
       "version_minor": 0
      },
      "text/plain": [
       "Training: |          | 0/? [00:00<?, ?it/s]"
      ]
     },
     "metadata": {},
     "output_type": "display_data"
    },
    {
     "data": {
      "application/vnd.jupyter.widget-view+json": {
       "model_id": "",
       "version_major": 2,
       "version_minor": 0
      },
      "text/plain": [
       "Validation: |          | 0/? [00:00<?, ?it/s]"
      ]
     },
     "metadata": {},
     "output_type": "display_data"
    },
    {
     "data": {
      "application/vnd.jupyter.widget-view+json": {
       "model_id": "",
       "version_major": 2,
       "version_minor": 0
      },
      "text/plain": [
       "Validation: |          | 0/? [00:00<?, ?it/s]"
      ]
     },
     "metadata": {},
     "output_type": "display_data"
    },
    {
     "data": {
      "application/vnd.jupyter.widget-view+json": {
       "model_id": "",
       "version_major": 2,
       "version_minor": 0
      },
      "text/plain": [
       "Validation: |          | 0/? [00:00<?, ?it/s]"
      ]
     },
     "metadata": {},
     "output_type": "display_data"
    },
    {
     "data": {
      "application/vnd.jupyter.widget-view+json": {
       "model_id": "",
       "version_major": 2,
       "version_minor": 0
      },
      "text/plain": [
       "Validation: |          | 0/? [00:00<?, ?it/s]"
      ]
     },
     "metadata": {},
     "output_type": "display_data"
    },
    {
     "data": {
      "application/vnd.jupyter.widget-view+json": {
       "model_id": "",
       "version_major": 2,
       "version_minor": 0
      },
      "text/plain": [
       "Validation: |          | 0/? [00:00<?, ?it/s]"
      ]
     },
     "metadata": {},
     "output_type": "display_data"
    },
    {
     "data": {
      "application/vnd.jupyter.widget-view+json": {
       "model_id": "",
       "version_major": 2,
       "version_minor": 0
      },
      "text/plain": [
       "Validation: |          | 0/? [00:00<?, ?it/s]"
      ]
     },
     "metadata": {},
     "output_type": "display_data"
    },
    {
     "data": {
      "application/vnd.jupyter.widget-view+json": {
       "model_id": "",
       "version_major": 2,
       "version_minor": 0
      },
      "text/plain": [
       "Validation: |          | 0/? [00:00<?, ?it/s]"
      ]
     },
     "metadata": {},
     "output_type": "display_data"
    },
    {
     "data": {
      "application/vnd.jupyter.widget-view+json": {
       "model_id": "",
       "version_major": 2,
       "version_minor": 0
      },
      "text/plain": [
       "Validation: |          | 0/? [00:00<?, ?it/s]"
      ]
     },
     "metadata": {},
     "output_type": "display_data"
    },
    {
     "data": {
      "application/vnd.jupyter.widget-view+json": {
       "model_id": "",
       "version_major": 2,
       "version_minor": 0
      },
      "text/plain": [
       "Validation: |          | 0/? [00:00<?, ?it/s]"
      ]
     },
     "metadata": {},
     "output_type": "display_data"
    },
    {
     "data": {
      "application/vnd.jupyter.widget-view+json": {
       "model_id": "",
       "version_major": 2,
       "version_minor": 0
      },
      "text/plain": [
       "Validation: |          | 0/? [00:00<?, ?it/s]"
      ]
     },
     "metadata": {},
     "output_type": "display_data"
    },
    {
     "data": {
      "application/vnd.jupyter.widget-view+json": {
       "model_id": "",
       "version_major": 2,
       "version_minor": 0
      },
      "text/plain": [
       "Validation: |          | 0/? [00:00<?, ?it/s]"
      ]
     },
     "metadata": {},
     "output_type": "display_data"
    },
    {
     "data": {
      "application/vnd.jupyter.widget-view+json": {
       "model_id": "",
       "version_major": 2,
       "version_minor": 0
      },
      "text/plain": [
       "Validation: |          | 0/? [00:00<?, ?it/s]"
      ]
     },
     "metadata": {},
     "output_type": "display_data"
    },
    {
     "data": {
      "application/vnd.jupyter.widget-view+json": {
       "model_id": "",
       "version_major": 2,
       "version_minor": 0
      },
      "text/plain": [
       "Validation: |          | 0/? [00:00<?, ?it/s]"
      ]
     },
     "metadata": {},
     "output_type": "display_data"
    },
    {
     "data": {
      "application/vnd.jupyter.widget-view+json": {
       "model_id": "",
       "version_major": 2,
       "version_minor": 0
      },
      "text/plain": [
       "Validation: |          | 0/? [00:00<?, ?it/s]"
      ]
     },
     "metadata": {},
     "output_type": "display_data"
    },
    {
     "data": {
      "application/vnd.jupyter.widget-view+json": {
       "model_id": "",
       "version_major": 2,
       "version_minor": 0
      },
      "text/plain": [
       "Validation: |          | 0/? [00:00<?, ?it/s]"
      ]
     },
     "metadata": {},
     "output_type": "display_data"
    },
    {
     "data": {
      "application/vnd.jupyter.widget-view+json": {
       "model_id": "",
       "version_major": 2,
       "version_minor": 0
      },
      "text/plain": [
       "Validation: |          | 0/? [00:00<?, ?it/s]"
      ]
     },
     "metadata": {},
     "output_type": "display_data"
    },
    {
     "data": {
      "application/vnd.jupyter.widget-view+json": {
       "model_id": "",
       "version_major": 2,
       "version_minor": 0
      },
      "text/plain": [
       "Validation: |          | 0/? [00:00<?, ?it/s]"
      ]
     },
     "metadata": {},
     "output_type": "display_data"
    },
    {
     "data": {
      "application/vnd.jupyter.widget-view+json": {
       "model_id": "",
       "version_major": 2,
       "version_minor": 0
      },
      "text/plain": [
       "Validation: |          | 0/? [00:00<?, ?it/s]"
      ]
     },
     "metadata": {},
     "output_type": "display_data"
    },
    {
     "data": {
      "application/vnd.jupyter.widget-view+json": {
       "model_id": "",
       "version_major": 2,
       "version_minor": 0
      },
      "text/plain": [
       "Validation: |          | 0/? [00:00<?, ?it/s]"
      ]
     },
     "metadata": {},
     "output_type": "display_data"
    },
    {
     "data": {
      "application/vnd.jupyter.widget-view+json": {
       "model_id": "",
       "version_major": 2,
       "version_minor": 0
      },
      "text/plain": [
       "Validation: |          | 0/? [00:00<?, ?it/s]"
      ]
     },
     "metadata": {},
     "output_type": "display_data"
    },
    {
     "data": {
      "application/vnd.jupyter.widget-view+json": {
       "model_id": "",
       "version_major": 2,
       "version_minor": 0
      },
      "text/plain": [
       "Validation: |          | 0/? [00:00<?, ?it/s]"
      ]
     },
     "metadata": {},
     "output_type": "display_data"
    },
    {
     "data": {
      "application/vnd.jupyter.widget-view+json": {
       "model_id": "",
       "version_major": 2,
       "version_minor": 0
      },
      "text/plain": [
       "Validation: |          | 0/? [00:00<?, ?it/s]"
      ]
     },
     "metadata": {},
     "output_type": "display_data"
    },
    {
     "data": {
      "application/vnd.jupyter.widget-view+json": {
       "model_id": "",
       "version_major": 2,
       "version_minor": 0
      },
      "text/plain": [
       "Validation: |          | 0/? [00:00<?, ?it/s]"
      ]
     },
     "metadata": {},
     "output_type": "display_data"
    },
    {
     "name": "stderr",
     "output_type": "stream",
     "text": [
      "LOCAL_RANK: 0 - CUDA_VISIBLE_DEVICES: [0]\n",
      "/root/miniconda3/lib/python3.10/site-packages/lightning/pytorch/trainer/connectors/data_connector.py:433: The 'predict_dataloader' does not have many workers which may be a bottleneck. Consider increasing the value of the `num_workers` argument` to `num_workers=127` in the `DataLoader` to improve performance.\n"
     ]
    },
    {
     "data": {
      "application/vnd.jupyter.widget-view+json": {
       "model_id": "6a0d3f8f28904626ac1185e4bc368a4e",
       "version_major": 2,
       "version_minor": 0
      },
      "text/plain": [
       "Predicting: |          | 0/? [00:00<?, ?it/s]"
      ]
     },
     "metadata": {},
     "output_type": "display_data"
    },
    {
     "name": "stdout",
     "output_type": "stream",
     "text": [
      "{'Accuracy': 0.8591065292096219}\n"
     ]
    }
   ],
   "source": [
    "classifier = MambularClassifier(numerical_preprocessing=\"standardization\")\n",
    "\n",
    "# Fit the model on training data\n",
    "classifier.fit(\n",
    "    X_train, y_train_enc,\n",
    "    max_epochs=50,          \n",
    "    batch_size=32,         \n",
    "    patience=3,             \n",
    "    monitor=\"val_loss\",\n",
    "    mode=\"min\",\n",
    "    lr=5e-4,                \n",
    "    lr_patience=3,         \n",
    "    lr_factor=0.5,\n",
    "    weight_decay=1e-5,\n",
    ")\n",
    "\n",
    "print(classifier.evaluate(X_test, y_test_enc))\n"
   ]
  },
  {
   "cell_type": "code",
   "execution_count": 37,
   "id": "6be69cc7-9403-46f7-a13d-bac423590023",
   "metadata": {},
   "outputs": [],
   "source": [
    "\n",
    "\n",
    "\n",
    "sns.set_theme(style=\"whitegrid\", font=\"DejaVu Sans\", rc={\n",
    "    \"figure.dpi\": 140,\n",
    "    \"savefig.dpi\": 300,\n",
    "    \"axes.titlesize\": 14,\n",
    "    \"axes.labelsize\": 12,\n",
    "    \"legend.fontsize\": 9,\n",
    "})\n",
    "\n",
    "def _ensure_dir(d):\n",
    "    os.makedirs(d, exist_ok=True)\n",
    "\n",
    "def _maybe_to_numpy(x):\n",
    "    if isinstance(x, (pd.Series, pd.DataFrame)):\n",
    "        return x.values\n",
    "    return np.asarray(x)\n",
    "\n",
    "def plot_training_curves_from_csvlog(csv_log_dir, save_dir):\n",
    "    try:\n",
    "        version_dirs = [d for d in os.listdir(csv_log_dir) if d.startswith(\"version_\")]\n",
    "        if not version_dirs:\n",
    "            return\n",
    "        latest = sorted(version_dirs, key=lambda x: int(x.split(\"_\")[-1]))[-1]\n",
    "        metrics_csv = os.path.join(csv_log_dir, latest, \"metrics.csv\")\n",
    "        if not os.path.exists(metrics_csv):\n",
    "            return\n",
    "        df = pd.read_csv(metrics_csv)\n",
    "        if \"epoch\" not in df.columns:\n",
    "            return\n",
    "        piv = df.pivot_table(index=\"epoch\", columns=\"metric\", values=\"value\", aggfunc=\"mean\")\n",
    "        _ensure_dir(save_dir)\n",
    "\n",
    "        plt.figure(figsize=(6,4))\n",
    "        for col in piv.columns:\n",
    "            if \"loss\" in str(col):\n",
    "                plt.plot(piv.index, piv[col], label=col)\n",
    "        plt.xlabel(\"Epoch\"); plt.ylabel(\"Loss\"); plt.title(\"Training/Validation Loss\")\n",
    "        plt.legend(); plt.tight_layout()\n",
    "        plt.savefig(os.path.join(save_dir, \"curve_loss.png\")); plt.close()\n",
    "\n",
    "        acc_like = [c for c in piv.columns if (\"acc\" in str(c).lower() or \"accuracy\" in str(c).lower())]\n",
    "        if acc_like:\n",
    "            plt.figure(figsize=(6,4))\n",
    "            for col in acc_like:\n",
    "                plt.plot(piv.index, piv[col], label=col)\n",
    "            plt.xlabel(\"Epoch\"); plt.ylabel(\"Score\"); plt.title(\"Accuracy-like Curves\")\n",
    "            plt.legend(); plt.tight_layout()\n",
    "            plt.savefig(os.path.join(save_dir, \"curve_acc.png\")); plt.close()\n",
    "    except Exception as e:\n",
    "        print(\"[warn] plot_training_curves_from_csvlog failed:\", e)\n",
    "\n",
    "def _wrap_labels(labels, max_width=16):\n",
    "    return [textwrap.fill(str(x), width=max_width, break_long_words=False) for x in labels]\n",
    "\n",
    "def classification_report_figures(\n",
    "    y_true,\n",
    "    y_pred,\n",
    "    class_names,\n",
    "    save_path,                 \n",
    "    page_rows=15,              \n",
    "    col_width=2.2,             \n",
    "    row_height=0.7,            \n",
    "    font_size=11,              \n",
    "    title_font_size=16,        \n",
    "    cmap=\"YlGnBu\",             \n",
    "    class_name_wrap=16,        \n",
    "    save_pdf=True              \n",
    "):\n",
    "\n",
    "    rep = classification_report(\n",
    "        y_true, y_pred,\n",
    "        target_names=[str(c) for c in class_names],\n",
    "        output_dict=True, zero_division=0\n",
    "    )\n",
    "    df = pd.DataFrame(rep).T\n",
    "\n",
    "\n",
    "    tail_keys = [\"accuracy\", \"macro avg\", \"weighted avg\"]\n",
    "    tail_idx = [i for i, idx in enumerate(df.index) if str(idx) in tail_keys]\n",
    "    if tail_idx:\n",
    "        split_pos = min(tail_idx)\n",
    "        df_class = df.iloc[:split_pos, :].copy()\n",
    "        df_overall = df.iloc[split_pos:, :].copy()\n",
    "    else:\n",
    "        df_class = df.copy()\n",
    "        df_overall = pd.DataFrame(columns=df.columns)\n",
    "\n",
    "\n",
    "    wrapped_names = _wrap_labels(df_class.index.tolist(), max_width=class_name_wrap)\n",
    "    df_class.index = wrapped_names\n",
    "\n",
    "    n_classes = df_class.shape[0]\n",
    "    n_pages = math.ceil(n_classes / page_rows) if n_classes > 0 else 0\n",
    "    base, ext = os.path.splitext(save_path)\n",
    "    out_paths = []\n",
    "\n",
    "    for p in range(n_pages):\n",
    "        sl = slice(p * page_rows, min((p + 1) * page_rows, n_classes))\n",
    "        page_df = df_class.iloc[sl, :].round(3)\n",
    "\n",
    "        rows = page_df.shape[0]\n",
    "        cols = page_df.shape[1]\n",
    "\n",
    "        fig_w = max(8.0, cols * col_width + 2.0)\n",
    "        fig_h = max(6.0, rows * row_height + 2.0)\n",
    "\n",
    "        plt.figure(figsize=(fig_w, fig_h))\n",
    "        sns.heatmap(\n",
    "            page_df,\n",
    "            annot=True, fmt=\".3f\",\n",
    "            cmap=cmap, cbar=False,\n",
    "            annot_kws={\"size\": font_size},\n",
    "            linewidths=0.6, linecolor=\"#DDDDDD\"\n",
    "        )\n",
    "        plt.title(f\"Classification Report (Per-Class) — Page {p+1}/{n_pages}\",\n",
    "                  fontsize=title_font_size, pad=14)\n",
    "        plt.xlabel(\"Metrics\", fontsize=font_size+1)\n",
    "        plt.ylabel(\"Classes\", fontsize=font_size+1)\n",
    "        plt.xticks(fontsize=font_size)\n",
    "        plt.yticks(fontsize=font_size)\n",
    "\n",
    "        plt.tight_layout()\n",
    "        png_path = f\"{base}_perclass_page{p+1}.png\"\n",
    "        plt.savefig(png_path, dpi=300, bbox_inches=\"tight\")\n",
    "        if save_pdf:\n",
    "            pdf_path = f\"{base}_perclass_page{p+1}.pdf\"\n",
    "            plt.savefig(pdf_path, dpi=300, bbox_inches=\"tight\")\n",
    "            out_paths.append(pdf_path)\n",
    "        out_paths.append(png_path)\n",
    "        plt.close()\n",
    "\n",
    "\n",
    "    if not df_overall.empty:\n",
    "        page_df = df_overall.round(3)\n",
    "        rows = page_df.shape[0]\n",
    "        cols = page_df.shape[1]\n",
    "        fig_w = max(6.5, cols * (col_width*0.9) + 1.5)\n",
    "        fig_h = max(3.8, rows * (row_height*1.1) + 1.2)\n",
    "\n",
    "        plt.figure(figsize=(fig_w, fig_h))\n",
    "        sns.heatmap(\n",
    "            page_df,\n",
    "            annot=True, fmt=\".3f\",\n",
    "            cmap=\"Oranges\", cbar=False,\n",
    "            annot_kws={\"size\": font_size+1},\n",
    "            linewidths=0.6, linecolor=\"#DDDDDD\"\n",
    "        )\n",
    "        plt.title(\"Classification Report — Overall Summary\", fontsize=title_font_size, pad=10)\n",
    "        plt.xlabel(\"Metrics\", fontsize=font_size+1)\n",
    "        plt.ylabel(\"Summary\", fontsize=font_size+1)\n",
    "        plt.xticks(fontsize=font_size)\n",
    "        plt.yticks(fontsize=font_size)\n",
    "\n",
    "        plt.tight_layout()\n",
    "        png_path = f\"{base}_overall.png\"\n",
    "        plt.savefig(png_path, dpi=300, bbox_inches=\"tight\")\n",
    "        if save_pdf:\n",
    "            pdf_path = f\"{base}_overall.pdf\"\n",
    "            plt.savefig(pdf_path, dpi=300, bbox_inches=\"tight\")\n",
    "            out_paths.append(pdf_path)\n",
    "        out_paths.append(png_path)\n",
    "        plt.close()\n",
    "\n",
    "    return out_paths\n",
    "\n",
    "def plot_confusions(y_true, y_pred, class_names, save_dir):\n",
    "    cm = confusion_matrix(y_true, y_pred, labels=range(len(class_names)))\n",
    "    cmn = cm / cm.sum(axis=1, keepdims=True).clip(min=1)\n",
    "    plt.figure(figsize=(6.5,5.5))\n",
    "    sns.heatmap(cm, annot=True, fmt=\"d\", cmap=\"Blues\", xticklabels=class_names, yticklabels=class_names)\n",
    "    plt.xlabel(\"Predicted\"); plt.ylabel(\"True\"); plt.title(\"Confusion Matrix (Counts)\")\n",
    "    plt.tight_layout(); plt.savefig(os.path.join(save_dir, \"cm_counts.png\")); plt.close()\n",
    "\n",
    "    plt.figure(figsize=(6.5,5.5))\n",
    "    sns.heatmap(cmn, annot=True, fmt=\".2f\", cmap=\"Purples\", xticklabels=class_names, yticklabels=class_names)\n",
    "    plt.xlabel(\"Predicted\"); plt.ylabel(\"True\"); plt.title(\"Confusion Matrix (Normalized)\")\n",
    "    plt.tight_layout(); plt.savefig(os.path.join(save_dir, \"cm_normalized.png\")); plt.close()\n",
    "\n",
    "def plot_roc_pr_curves(y_true, y_proba, class_names, save_dir):\n",
    "    n_classes = len(class_names)\n",
    "    y_true_bin = label_binarize(y_true, classes=np.arange(n_classes))\n",
    "    _ensure_dir(save_dir)\n",
    "\n",
    "    # --- ROC ---\n",
    "    fpr = dict(); tpr = dict(); roc_auc = dict()\n",
    "    for i in range(n_classes):\n",
    "        if y_true_bin[:, i].sum() == 0:  # 该类未出现在 test\n",
    "            continue\n",
    "        fpr[i], tpr[i], _ = roc_curve(y_true_bin[:, i], y_proba[:, i])\n",
    "        roc_auc[i] = auc(fpr[i], tpr[i])\n",
    "\n",
    "    # micro\n",
    "    fpr[\"micro\"], tpr[\"micro\"], _ = roc_curve(y_true_bin.ravel(), y_proba.ravel())\n",
    "    roc_auc[\"micro\"] = auc(fpr[\"micro\"], tpr[\"micro\"])\n",
    "\n",
    "    # macro\n",
    "    fpr_grid = np.linspace(0, 1, 1000)\n",
    "    tprs = []\n",
    "    for k in fpr:\n",
    "        if k in (\"micro\", \"macro\"):\n",
    "            continue\n",
    "        tprs.append(np.interp(fpr_grid, fpr[k], tpr[k]))\n",
    "    tprs = np.array(tprs)\n",
    "    tpr_mean = tprs.mean(axis=0) if len(tprs)>0 else np.zeros_like(fpr_grid)\n",
    "    roc_auc[\"macro\"] = auc(fpr_grid, tpr_mean)\n",
    "\n",
    "    plt.figure(figsize=(7,5))\n",
    "    plt.plot(fpr[\"micro\"], tpr[\"micro\"], label=f\"micro-avg ROC (AUC={roc_auc['micro']:.3f})\", lw=2)\n",
    "    plt.plot(fpr_grid, tpr_mean, label=f\"macro-avg ROC (AUC={roc_auc['macro']:.3f})\", lw=2)\n",
    "    for i in range(n_classes):\n",
    "        if i in roc_auc:\n",
    "            plt.plot(fpr[i], tpr[i], lw=1, alpha=0.6, label=f\"{class_names[i]} (AUC={roc_auc[i]:.2f})\")\n",
    "    plt.plot([0,1],[0,1],\"k--\", lw=1)\n",
    "    plt.xlabel(\"FPR\"); plt.ylabel(\"TPR\"); plt.title(\"ROC Curves\")\n",
    "    plt.legend(ncol=2, fontsize=8); plt.tight_layout()\n",
    "    plt.savefig(os.path.join(save_dir, \"roc_multi.png\")); plt.close()\n",
    "\n",
    "    # --- PR ---\n",
    "    plt.figure(figsize=(7,5))\n",
    "    ap_micro = average_precision_score(y_true_bin, y_proba, average=\"micro\")\n",
    "    plt.plot([0,1],[ap_micro, ap_micro], \"k--\", lw=1, label=f\"micro-avg AP={ap_micro:.3f}\")\n",
    "    for i in range(n_classes):\n",
    "        if y_true_bin[:, i].sum() == 0:\n",
    "            continue\n",
    "        precision, recall, _ = precision_recall_curve(y_true_bin[:, i], y_proba[:, i])\n",
    "        ap = average_precision_score(y_true_bin[:, i], y_proba[:, i])\n",
    "        plt.plot(recall, precision, lw=1.5, label=f\"{class_names[i]} (AP={ap:.2f})\")\n",
    "    plt.xlabel(\"Recall\"); plt.ylabel(\"Precision\"); plt.title(\"Precision-Recall Curves\")\n",
    "    plt.legend(ncol=2, fontsize=8); plt.tight_layout()\n",
    "    plt.savefig(os.path.join(save_dir, \"pr_multi.png\")); plt.close()\n",
    "\n",
    "def plot_topk_and_calibration(y_true, y_proba, save_dir, ks=(1,2,3,5)):\n",
    "    _ensure_dir(save_dir)\n",
    "    n_classes = y_proba.shape[1]\n",
    "    # Top-K\n",
    "    vals = []\n",
    "    for k in ks:\n",
    "        k = min(k, n_classes)\n",
    "        vals.append(top_k_accuracy_score(y_true, y_proba, k=k, labels=np.arange(n_classes)))\n",
    "    plt.figure(figsize=(5.5,4))\n",
    "    plt.plot(list(ks), vals, marker=\"o\")\n",
    "    plt.xlabel(\"k\"); plt.ylabel(\"Top-k Accuracy\"); plt.title(\"Top-k Accuracy Curve\")\n",
    "    plt.grid(True, alpha=0.3); plt.tight_layout()\n",
    "    plt.savefig(os.path.join(save_dir, \"topk.png\")); plt.close()\n",
    "\n",
    "    y_pred_conf = y_proba.max(axis=1)\n",
    "    y_pred_cls  = y_proba.argmax(axis=1)\n",
    "    correct     = (y_pred_cls == y_true).astype(int)\n",
    "    prob_true, prob_pred = calibration_curve(correct, y_pred_conf, n_bins=15, strategy=\"quantile\")\n",
    "    plt.figure(figsize=(5.5,4))\n",
    "    plt.plot([0,1],[0,1],\"k--\", alpha=0.5)\n",
    "    plt.plot(prob_pred, prob_true, marker=\"o\")\n",
    "    plt.xlabel(\"Predicted confidence\"); plt.ylabel(\"Empirical accuracy\")\n",
    "    plt.title(\"Reliability Diagram\"); plt.tight_layout()\n",
    "    plt.savefig(os.path.join(save_dir, \"calibration.png\")); plt.close()\n",
    "\n",
    "def plot_support_bars(y_true, class_names, save_path):\n",
    "    cnts = pd.Series(y_true).value_counts().sort_index()\n",
    "    plt.figure(figsize=(6,3.6))\n",
    "    sns.barplot(x=class_names, y=cnts.values, color=sns.color_palette(\"Blues\")[2])\n",
    "    plt.xticks(rotation=45, ha=\"right\"); plt.ylabel(\"Count\"); plt.title(\"Class Support (Test)\")\n",
    "    plt.tight_layout(); plt.savefig(save_path); plt.close()\n",
    "\n",
    "def plot_pca_embedding(preprocessor, X, y_true, y_pred, class_names, save_dir):\n",
    "    _ensure_dir(save_dir)\n",
    "    try:\n",
    "        X_t = preprocessor.transform(X)   \n",
    "        X_t = np.asarray(X_t)\n",
    "        n = min(8000, X_t.shape[0])      \n",
    "        idx = np.random.choice(X_t.shape[0], n, replace=False) if X_t.shape[0] > n else np.arange(X_t.shape[0])\n",
    "        X_sub = X_t[idx]; y_t = np.asarray(y_true)[idx]; y_p = np.asarray(y_pred)[idx]\n",
    "        pca = PCA(n_components=2, random_state=42)\n",
    "        Z = pca.fit_transform(X_sub)\n",
    "\n",
    "        plt.figure(figsize=(6.2,5))\n",
    "        sc = plt.scatter(Z[:,0], Z[:,1], c=y_t, s=10, cmap=\"tab20\", alpha=0.75)\n",
    "        plt.colorbar(sc, ticks=range(len(class_names)))\n",
    "        plt.title(\"PCA (colored by True)\"); plt.tight_layout()\n",
    "        plt.savefig(os.path.join(save_dir, \"pca_true.png\")); plt.close()\n",
    "\n",
    "        plt.figure(figsize=(6.2,5))\n",
    "        sc = plt.scatter(Z[:,0], Z[:,1], c=y_p, s=10, cmap=\"tab20\", alpha=0.75)\n",
    "        plt.colorbar(sc, ticks=range(len(class_names)))\n",
    "        plt.title(\"PCA (colored by Pred)\"); plt.tight_layout()\n",
    "        plt.savefig(os.path.join(save_dir, \"pca_pred.png\")); plt.close()\n",
    "    except Exception as e:\n",
    "        print(\"[warn] PCA embedding failed:\", e)\n",
    "\n",
    "def save_artifacts(classifier, class_names, save_dir):\n",
    "    _ensure_dir(save_dir)\n",
    "    try:\n",
    "        net = classifier.task_model.estimator\n",
    "        torch.save(net.state_dict(), os.path.join(save_dir, \"model_weights.pt\"))\n",
    "    except Exception as e:\n",
    "        print(\"[warn] saving model state_dict failed:\", e)\n",
    "\n",
    "    bundle = {\n",
    "        \"config\": getattr(classifier, \"config\", None),\n",
    "        \"preprocessor\": getattr(classifier, \"preprocessor\", None),\n",
    "        \"class_names\": class_names,\n",
    "    }\n",
    "    joblib.dump(bundle, os.path.join(save_dir, \"bundle.joblib\"))\n",
    "\n",
    "    try:\n",
    "        with open(os.path.join(save_dir, \"training_params.json\"), \"w\", encoding=\"utf-8\") as f:\n",
    "            json.dump(classifier.get_params(), f, ensure_ascii=False, indent=2, default=str)\n",
    "    except Exception as e:\n",
    "        print(\"[warn] saving training_params.json failed:\", e)\n",
    "\n",
    "def full_evaluate_and_visualize(classifier, X_train, y_train_enc, X_test, y_test_enc, class_names, out_dir=\"artifacts\"):\n",
    "    _ensure_dir(out_dir)\n",
    "\n",
    "    y_pred = classifier.predict(X_test)\n",
    "    try:\n",
    "        y_proba = classifier.predict_proba(X_test)\n",
    "    except Exception:\n",
    "\n",
    "        n_classes = len(class_names)\n",
    "        y_proba = np.eye(n_classes)[y_pred]\n",
    "\n",
    "\n",
    "    with open(os.path.join(out_dir, \"classification_report.txt\"), \"w\", encoding=\"utf-8\") as f:\n",
    "        f.write(report_txt)\n",
    "\n",
    "    plot_confusions(y_test_enc, y_pred, class_names, out_dir)\n",
    "    classification_report_figures(y_test_enc, y_pred, class_names, os.path.join(out_dir, \"classification_report.png\"))\n",
    "    plot_roc_pr_curves(y_test_enc, y_proba, class_names, out_dir)\n",
    "    plot_topk_and_calibration(y_test_enc, y_proba, out_dir)\n",
    "    plot_support_bars(y_test_enc, class_names, os.path.join(out_dir, \"class_support.png\"))\n",
    "    plot_pca_embedding(classifier.preprocessor, X_test, y_test_enc, y_pred, class_names, out_dir)\n",
    "\n",
    "    csv_log_dir = os.path.join(out_dir, \"csv_logs\")\n",
    "    if os.path.isdir(csv_log_dir):\n",
    "        plot_training_curves_from_csvlog(csv_log_dir, out_dir)\n",
    "\n",
    "    save_artifacts(classifier, class_names, out_dir)\n",
    "\n",
    "    print(f\"[OK] 全部图与文件已输出到：{os.path.abspath(out_dir)}\")\n"
   ]
  },
  {
   "cell_type": "code",
   "execution_count": 38,
   "id": "e096ac28-9c96-467c-b6fb-6f92bb11edc5",
   "metadata": {},
   "outputs": [
    {
     "name": "stderr",
     "output_type": "stream",
     "text": [
      "LOCAL_RANK: 0 - CUDA_VISIBLE_DEVICES: [0]\n",
      "/root/miniconda3/lib/python3.10/site-packages/lightning/pytorch/trainer/connectors/data_connector.py:433: The 'predict_dataloader' does not have many workers which may be a bottleneck. Consider increasing the value of the `num_workers` argument` to `num_workers=127` in the `DataLoader` to improve performance.\n"
     ]
    },
    {
     "data": {
      "application/vnd.jupyter.widget-view+json": {
       "model_id": "26627711c41a45b9a04664f323029f8b",
       "version_major": 2,
       "version_minor": 0
      },
      "text/plain": [
       "Predicting: |          | 0/? [00:00<?, ?it/s]"
      ]
     },
     "metadata": {},
     "output_type": "display_data"
    },
    {
     "name": "stderr",
     "output_type": "stream",
     "text": [
      "LOCAL_RANK: 0 - CUDA_VISIBLE_DEVICES: [0]\n",
      "/root/miniconda3/lib/python3.10/site-packages/lightning/pytorch/trainer/connectors/data_connector.py:433: The 'predict_dataloader' does not have many workers which may be a bottleneck. Consider increasing the value of the `num_workers` argument` to `num_workers=127` in the `DataLoader` to improve performance.\n"
     ]
    },
    {
     "data": {
      "application/vnd.jupyter.widget-view+json": {
       "model_id": "c43283ae526e4a2f9c1da588c17c9c31",
       "version_major": 2,
       "version_minor": 0
      },
      "text/plain": [
       "Predicting: |          | 0/? [00:00<?, ?it/s]"
      ]
     },
     "metadata": {},
     "output_type": "display_data"
    },
    {
     "name": "stdout",
     "output_type": "stream",
     "text": [
      "[warn] PCA embedding failed: tuple index out of range\n",
      "[warn] saving training_params.json failed: 'Preprocessor' object has no attribute 'get_params'\n",
      "[OK] 全部图与文件已输出到：/root/artifacts\n"
     ]
    }
   ],
   "source": [
    "\n",
    "\n",
    "class_names = [str(c) for c in np.unique(y_train_enc)]\n",
    "full_evaluate_and_visualize(\n",
    "    classifier,\n",
    "    X_train, y_train_enc,\n",
    "    X_test,  y_test_enc,\n",
    "    class_names=class_names,\n",
    "    out_dir=\"artifacts\"    \n",
    ")"
   ]
  },
  {
   "cell_type": "code",
   "execution_count": null,
   "id": "ac6b0b1f-29c1-486f-8b25-311baea81203",
   "metadata": {},
   "outputs": [],
   "source": []
  }
 ],
 "metadata": {
  "kernelspec": {
   "display_name": "Python 3 (ipykernel)",
   "language": "python",
   "name": "python3"
  },
  "language_info": {
   "codemirror_mode": {
    "name": "ipython",
    "version": 3
   },
   "file_extension": ".py",
   "mimetype": "text/x-python",
   "name": "python",
   "nbconvert_exporter": "python",
   "pygments_lexer": "ipython3",
   "version": "3.10.8"
  }
 },
 "nbformat": 4,
 "nbformat_minor": 5
}
